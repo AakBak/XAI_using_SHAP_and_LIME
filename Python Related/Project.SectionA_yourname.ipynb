{
 "cells": [
  {
   "cell_type": "markdown",
   "id": "d4a24c0e",
   "metadata": {},
   "source": [
    "This project template is created by Juhee Bae for the purpose of instructing \"Explainable AI\". Refer to the lecture and the code provided on Canvas. Do not share with external venues."
   ]
  },
  {
   "cell_type": "markdown",
   "id": "6dc74bb7",
   "metadata": {},
   "source": [
    "Copy the necessary code that is in the tutorial to answer the SHAP related questions.\n",
    "#Copy the code from the tutorial.\n",
    "\n",
    "- Setup\n",
    "\n",
    "- Data cleaning\n",
    "\n",
    "- Categorical variables\n",
    "\n",
    "- Numerical variables\n",
    "\n",
    "- Grid search and modeling\n",
    "\n",
    "- Train\n",
    "\n",
    "- Predict"
   ]
  },
  {
   "cell_type": "markdown",
   "id": "c3dbaa78",
   "metadata": {},
   "source": [
    "# Here, starts your answer"
   ]
  },
  {
   "cell_type": "markdown",
   "id": "975a7fb4",
   "metadata": {},
   "source": [
    "Copy the question from the document and provide solutions.\n",
    "\n",
    "Course [IT790A] Explainable AI\n",
    "\n",
    "Your Name:"
   ]
  },
  {
   "cell_type": "markdown",
   "id": "fd805824",
   "metadata": {},
   "source": [
    "A-1. Based on the model and explanation results, explain the ..."
   ]
  },
  {
   "cell_type": "code",
   "execution_count": 2,
   "id": "7b0a66c1",
   "metadata": {},
   "outputs": [],
   "source": [
    "# SHAP plot and its comments"
   ]
  },
  {
   "cell_type": "code",
   "execution_count": null,
   "id": "a44205da",
   "metadata": {},
   "outputs": [],
   "source": [
    "# Explanation of the plot"
   ]
  },
  {
   "cell_type": "markdown",
   "id": "a7ab44cf",
   "metadata": {},
   "source": [
    "A-2. Based on the ..."
   ]
  },
  {
   "cell_type": "code",
   "execution_count": null,
   "id": "00bd6a59",
   "metadata": {},
   "outputs": [],
   "source": []
  }
 ],
 "metadata": {
  "kernelspec": {
   "display_name": "Python 3 (ipykernel)",
   "language": "python",
   "name": "python3"
  },
  "language_info": {
   "codemirror_mode": {
    "name": "ipython",
    "version": 3
   },
   "file_extension": ".py",
   "mimetype": "text/x-python",
   "name": "python",
   "nbconvert_exporter": "python",
   "pygments_lexer": "ipython3",
   "version": "3.10.6"
  }
 },
 "nbformat": 4,
 "nbformat_minor": 5
}
